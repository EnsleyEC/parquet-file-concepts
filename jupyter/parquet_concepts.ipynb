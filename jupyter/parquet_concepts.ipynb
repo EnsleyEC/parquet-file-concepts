{
 "cells": [
  {
   "cell_type": "markdown",
   "id": "purple-pacific",
   "metadata": {},
   "source": [
    "### Numpy"
   ]
  },
  {
   "cell_type": "code",
   "execution_count": 2,
   "id": "atomic-murder",
   "metadata": {},
   "outputs": [],
   "source": [
    "import numpy as np"
   ]
  },
  {
   "cell_type": "markdown",
   "id": "decimal-meditation",
   "metadata": {},
   "source": [
    "### Pandas"
   ]
  },
  {
   "cell_type": "code",
   "execution_count": 3,
   "id": "latest-console",
   "metadata": {},
   "outputs": [],
   "source": [
    "import pandas as pd"
   ]
  },
  {
   "cell_type": "markdown",
   "id": "corrected-parcel",
   "metadata": {},
   "source": [
    "### Pyarrow"
   ]
  },
  {
   "cell_type": "code",
   "execution_count": 11,
   "id": "greater-vector",
   "metadata": {},
   "outputs": [],
   "source": [
    "import pyarrow as pa"
   ]
  },
  {
   "cell_type": "markdown",
   "id": "prospective-framing",
   "metadata": {},
   "source": [
    "### Parquet from pyarrow"
   ]
  },
  {
   "cell_type": "code",
   "execution_count": 9,
   "id": "visible-kinase",
   "metadata": {},
   "outputs": [],
   "source": [
    "import pyarrow.parquet as pq"
   ]
  },
  {
   "cell_type": "markdown",
   "id": "informed-parts",
   "metadata": {},
   "source": [
    "### 1. Generate a dataframe"
   ]
  },
  {
   "cell_type": "code",
   "execution_count": 7,
   "id": "hired-soldier",
   "metadata": {},
   "outputs": [
    {
     "data": {
      "text/html": [
       "<div>\n",
       "<style scoped>\n",
       "    .dataframe tbody tr th:only-of-type {\n",
       "        vertical-align: middle;\n",
       "    }\n",
       "\n",
       "    .dataframe tbody tr th {\n",
       "        vertical-align: top;\n",
       "    }\n",
       "\n",
       "    .dataframe thead th {\n",
       "        text-align: right;\n",
       "    }\n",
       "</style>\n",
       "<table border=\"1\" class=\"dataframe\">\n",
       "  <thead>\n",
       "    <tr style=\"text-align: right;\">\n",
       "      <th></th>\n",
       "      <th>column_1</th>\n",
       "      <th>column_2</th>\n",
       "      <th>column_3</th>\n",
       "    </tr>\n",
       "  </thead>\n",
       "  <tbody>\n",
       "    <tr>\n",
       "      <th>row_1</th>\n",
       "      <td>-5.0</td>\n",
       "      <td>apple</td>\n",
       "      <td>True</td>\n",
       "    </tr>\n",
       "    <tr>\n",
       "      <th>row_2</th>\n",
       "      <td>NaN</td>\n",
       "      <td>banana</td>\n",
       "      <td>False</td>\n",
       "    </tr>\n",
       "    <tr>\n",
       "      <th>row_3</th>\n",
       "      <td>2.5</td>\n",
       "      <td>orange</td>\n",
       "      <td>True</td>\n",
       "    </tr>\n",
       "  </tbody>\n",
       "</table>\n",
       "</div>"
      ],
      "text/plain": [
       "       column_1 column_2  column_3\n",
       "row_1      -5.0    apple      True\n",
       "row_2       NaN   banana     False\n",
       "row_3       2.5   orange      True"
      ]
     },
     "execution_count": 7,
     "metadata": {},
     "output_type": "execute_result"
    }
   ],
   "source": [
    "df = pd.DataFrame({'column_1': [-5, np.nan, 2.5],\n",
    "                   'column_2': ['apple', 'banana', 'orange'],\n",
    "                   'column_3': [True, False, True]},\n",
    "                   index=('row_1','row_2','row_3'))\n",
    "df.head()"
   ]
  },
  {
   "cell_type": "markdown",
   "id": "colored-tiger",
   "metadata": {},
   "source": [
    "### 2. Get table from pandas dataframe"
   ]
  },
  {
   "cell_type": "code",
   "execution_count": 18,
   "id": "higher-parent",
   "metadata": {},
   "outputs": [
    {
     "data": {
      "text/plain": [
       "(3, 4)"
      ]
     },
     "execution_count": 18,
     "metadata": {},
     "output_type": "execute_result"
    }
   ],
   "source": [
    "table = pa.Table.from_pandas(df)"
   ]
  },
  {
   "cell_type": "markdown",
   "id": "smoking-congress",
   "metadata": {},
   "source": [
    "### 2.1 Print amount of rows (num_rows) and columns (num_columns)"
   ]
  },
  {
   "cell_type": "code",
   "execution_count": 19,
   "id": "short-leisure",
   "metadata": {},
   "outputs": [
    {
     "data": {
      "text/plain": [
       "(3, 4)"
      ]
     },
     "execution_count": 19,
     "metadata": {},
     "output_type": "execute_result"
    }
   ],
   "source": [
    "table.shape"
   ]
  },
  {
   "cell_type": "markdown",
   "id": "crucial-campus",
   "metadata": {},
   "source": [
    "### 2.2 Print schema"
   ]
  },
  {
   "cell_type": "code",
   "execution_count": 21,
   "id": "contrary-jason",
   "metadata": {},
   "outputs": [
    {
     "data": {
      "text/plain": [
       "column_1: double\n",
       "column_2: string\n",
       "column_3: bool\n",
       "__index_level_0__: string\n",
       "-- schema metadata --\n",
       "pandas: '{\"index_columns\": [\"__index_level_0__\"], \"column_indexes\": [{\"na' + 676"
      ]
     },
     "execution_count": 21,
     "metadata": {},
     "output_type": "execute_result"
    }
   ],
   "source": [
    "table.schema"
   ]
  },
  {
   "cell_type": "markdown",
   "id": "positive-honduras",
   "metadata": {},
   "source": [
    "### 3. Write table to .parquet format"
   ]
  },
  {
   "cell_type": "code",
   "execution_count": 22,
   "id": "alien-programming",
   "metadata": {},
   "outputs": [],
   "source": [
    "pq.write_table(table, 'example.parquet')"
   ]
  },
  {
   "cell_type": "markdown",
   "id": "future-racing",
   "metadata": {},
   "source": [
    "### 4. Read .parquet file"
   ]
  },
  {
   "cell_type": "code",
   "execution_count": 23,
   "id": "active-image",
   "metadata": {},
   "outputs": [],
   "source": [
    "table_recovered = pq.read_table('example.parquet')"
   ]
  },
  {
   "cell_type": "code",
   "execution_count": 24,
   "id": "olympic-rover",
   "metadata": {},
   "outputs": [
    {
     "data": {
      "text/html": [
       "<div>\n",
       "<style scoped>\n",
       "    .dataframe tbody tr th:only-of-type {\n",
       "        vertical-align: middle;\n",
       "    }\n",
       "\n",
       "    .dataframe tbody tr th {\n",
       "        vertical-align: top;\n",
       "    }\n",
       "\n",
       "    .dataframe thead th {\n",
       "        text-align: right;\n",
       "    }\n",
       "</style>\n",
       "<table border=\"1\" class=\"dataframe\">\n",
       "  <thead>\n",
       "    <tr style=\"text-align: right;\">\n",
       "      <th></th>\n",
       "      <th>column_1</th>\n",
       "      <th>column_2</th>\n",
       "      <th>column_3</th>\n",
       "    </tr>\n",
       "  </thead>\n",
       "  <tbody>\n",
       "    <tr>\n",
       "      <th>row_1</th>\n",
       "      <td>-5.0</td>\n",
       "      <td>apple</td>\n",
       "      <td>True</td>\n",
       "    </tr>\n",
       "    <tr>\n",
       "      <th>row_2</th>\n",
       "      <td>NaN</td>\n",
       "      <td>banana</td>\n",
       "      <td>False</td>\n",
       "    </tr>\n",
       "    <tr>\n",
       "      <th>row_3</th>\n",
       "      <td>2.5</td>\n",
       "      <td>orange</td>\n",
       "      <td>True</td>\n",
       "    </tr>\n",
       "  </tbody>\n",
       "</table>\n",
       "</div>"
      ],
      "text/plain": [
       "       column_1 column_2  column_3\n",
       "row_1      -5.0    apple      True\n",
       "row_2       NaN   banana     False\n",
       "row_3       2.5   orange      True"
      ]
     },
     "execution_count": 24,
     "metadata": {},
     "output_type": "execute_result"
    }
   ],
   "source": [
    "table_recovered.to_pandas()"
   ]
  },
  {
   "cell_type": "markdown",
   "id": "knowing-jordan",
   "metadata": {},
   "source": [
    "### 5. Omitting the DataFrame index (passing `preserve_index=False`)"
   ]
  },
  {
   "cell_type": "markdown",
   "id": "effective-starter",
   "metadata": {},
   "source": [
    "### 5.1 Generate another dataframe"
   ]
  },
  {
   "cell_type": "code",
   "execution_count": 30,
   "id": "secure-conclusion",
   "metadata": {},
   "outputs": [],
   "source": [
    "df = pd.DataFrame({'column_1': [-5, np.nan, 2.5],\n",
    "                   'column_2': ['apple', 'banana', 'orange'],\n",
    "                   'column_3': [True, False, True]},\n",
    "                   index=('row_1','row_2','row_3'))"
   ]
  },
  {
   "cell_type": "markdown",
   "id": "mysterious-prison",
   "metadata": {},
   "source": [
    "### 5.2 Get table with preserve_index=False"
   ]
  },
  {
   "cell_type": "code",
   "execution_count": 31,
   "id": "colonial-organization",
   "metadata": {},
   "outputs": [],
   "source": [
    "table = pa.Table.from_pandas(df, preserve_index=False)"
   ]
  },
  {
   "cell_type": "markdown",
   "id": "bearing-gilbert",
   "metadata": {},
   "source": [
    "### 5.3 Table result"
   ]
  },
  {
   "cell_type": "code",
   "execution_count": 32,
   "id": "hungarian-vacation",
   "metadata": {},
   "outputs": [
    {
     "data": {
      "text/html": [
       "<div>\n",
       "<style scoped>\n",
       "    .dataframe tbody tr th:only-of-type {\n",
       "        vertical-align: middle;\n",
       "    }\n",
       "\n",
       "    .dataframe tbody tr th {\n",
       "        vertical-align: top;\n",
       "    }\n",
       "\n",
       "    .dataframe thead th {\n",
       "        text-align: right;\n",
       "    }\n",
       "</style>\n",
       "<table border=\"1\" class=\"dataframe\">\n",
       "  <thead>\n",
       "    <tr style=\"text-align: right;\">\n",
       "      <th></th>\n",
       "      <th>column_1</th>\n",
       "      <th>column_2</th>\n",
       "      <th>column_3</th>\n",
       "    </tr>\n",
       "  </thead>\n",
       "  <tbody>\n",
       "    <tr>\n",
       "      <th>0</th>\n",
       "      <td>-5.0</td>\n",
       "      <td>apple</td>\n",
       "      <td>True</td>\n",
       "    </tr>\n",
       "    <tr>\n",
       "      <th>1</th>\n",
       "      <td>NaN</td>\n",
       "      <td>banana</td>\n",
       "      <td>False</td>\n",
       "    </tr>\n",
       "    <tr>\n",
       "      <th>2</th>\n",
       "      <td>2.5</td>\n",
       "      <td>orange</td>\n",
       "      <td>True</td>\n",
       "    </tr>\n",
       "  </tbody>\n",
       "</table>\n",
       "</div>"
      ],
      "text/plain": [
       "   column_1 column_2  column_3\n",
       "0      -5.0    apple      True\n",
       "1       NaN   banana     False\n",
       "2       2.5   orange      True"
      ]
     },
     "execution_count": 32,
     "metadata": {},
     "output_type": "execute_result"
    }
   ],
   "source": [
    "table.to_pandas()"
   ]
  },
  {
   "cell_type": "markdown",
   "id": "oriental-performer",
   "metadata": {},
   "source": [
    "### 6. Reading .parquet with ParquetFile class (more features)"
   ]
  },
  {
   "cell_type": "code",
   "execution_count": 33,
   "id": "unavailable-savannah",
   "metadata": {},
   "outputs": [],
   "source": [
    "parquet_file = pq.ParquetFile('example.parquet')"
   ]
  },
  {
   "cell_type": "markdown",
   "id": "illegal-newcastle",
   "metadata": {},
   "source": [
    "### 6.1 Metadata"
   ]
  },
  {
   "cell_type": "code",
   "execution_count": 35,
   "id": "technical-concern",
   "metadata": {},
   "outputs": [
    {
     "data": {
      "text/plain": [
       "<pyarrow._parquet.FileMetaData object at 0x7f3b07c784a0>\n",
       "  created_by: parquet-cpp version 1.5.1-SNAPSHOT\n",
       "  num_columns: 4\n",
       "  num_rows: 3\n",
       "  num_row_groups: 1\n",
       "  format_version: 1.0\n",
       "  serialized_size: 2708"
      ]
     },
     "execution_count": 35,
     "metadata": {},
     "output_type": "execute_result"
    }
   ],
   "source": [
    "parquet_file.metadata"
   ]
  },
  {
   "cell_type": "markdown",
   "id": "entitled-census",
   "metadata": {},
   "source": [
    "### 6.2 Schema"
   ]
  },
  {
   "cell_type": "code",
   "execution_count": 37,
   "id": "decent-rally",
   "metadata": {},
   "outputs": [
    {
     "data": {
      "text/plain": [
       "<pyarrow._parquet.ParquetSchema object at 0x7f3b07bd1580>\n",
       "required group field_id=0 schema {\n",
       "  optional double field_id=1 column_1;\n",
       "  optional binary field_id=2 column_2 (String);\n",
       "  optional boolean field_id=3 column_3;\n",
       "  optional binary field_id=4 __index_level_0__ (String);\n",
       "}"
      ]
     },
     "execution_count": 37,
     "metadata": {},
     "output_type": "execute_result"
    }
   ],
   "source": [
    "parquet_file.schema"
   ]
  },
  {
   "cell_type": "markdown",
   "id": "disabled-optimization",
   "metadata": {},
   "source": [
    "### 7 Row group\n",
    "A `.parquet file` consists of `multiple row groups` acording to Apache Parquet doc. The `read_table` method will read all of the `row groups` and concatenate them into a `single table`. "
   ]
  },
  {
   "cell_type": "code",
   "execution_count": 38,
   "id": "smooth-mortgage",
   "metadata": {},
   "outputs": [
    {
     "data": {
      "text/plain": [
       "1"
      ]
     },
     "execution_count": 38,
     "metadata": {},
     "output_type": "execute_result"
    }
   ],
   "source": [
    "parquet_file.num_row_groups"
   ]
  },
  {
   "cell_type": "markdown",
   "id": "identified-contamination",
   "metadata": {},
   "source": [
    "### 7.1 Read individual row groups"
   ]
  },
  {
   "cell_type": "code",
   "execution_count": 41,
   "id": "median-lucas",
   "metadata": {},
   "outputs": [
    {
     "data": {
      "text/html": [
       "<div>\n",
       "<style scoped>\n",
       "    .dataframe tbody tr th:only-of-type {\n",
       "        vertical-align: middle;\n",
       "    }\n",
       "\n",
       "    .dataframe tbody tr th {\n",
       "        vertical-align: top;\n",
       "    }\n",
       "\n",
       "    .dataframe thead th {\n",
       "        text-align: right;\n",
       "    }\n",
       "</style>\n",
       "<table border=\"1\" class=\"dataframe\">\n",
       "  <thead>\n",
       "    <tr style=\"text-align: right;\">\n",
       "      <th></th>\n",
       "      <th>column_1</th>\n",
       "      <th>column_2</th>\n",
       "      <th>column_3</th>\n",
       "    </tr>\n",
       "  </thead>\n",
       "  <tbody>\n",
       "    <tr>\n",
       "      <th>row_1</th>\n",
       "      <td>-5.0</td>\n",
       "      <td>apple</td>\n",
       "      <td>True</td>\n",
       "    </tr>\n",
       "    <tr>\n",
       "      <th>row_2</th>\n",
       "      <td>NaN</td>\n",
       "      <td>banana</td>\n",
       "      <td>False</td>\n",
       "    </tr>\n",
       "    <tr>\n",
       "      <th>row_3</th>\n",
       "      <td>2.5</td>\n",
       "      <td>orange</td>\n",
       "      <td>True</td>\n",
       "    </tr>\n",
       "  </tbody>\n",
       "</table>\n",
       "</div>"
      ],
      "text/plain": [
       "       column_1 column_2  column_3\n",
       "row_1      -5.0    apple      True\n",
       "row_2       NaN   banana     False\n",
       "row_3       2.5   orange      True"
      ]
     },
     "execution_count": 41,
     "metadata": {},
     "output_type": "execute_result"
    }
   ],
   "source": [
    "parquet_file.read_row_group(0).to_pandas()"
   ]
  },
  {
   "cell_type": "markdown",
   "id": "owned-priest",
   "metadata": {},
   "source": [
    "### 7.2 Create a parquet file with multiple row groups by using `ParquetWriter` class"
   ]
  },
  {
   "cell_type": "code",
   "execution_count": 42,
   "id": "refined-romantic",
   "metadata": {},
   "outputs": [],
   "source": [
    "writer = pq.ParquetWriter('example_result.parquet', table.schema)"
   ]
  },
  {
   "cell_type": "markdown",
   "id": "third-contribution",
   "metadata": {},
   "source": [
    "### 7.3 Creating a .parquet file with 2 row groups"
   ]
  },
  {
   "cell_type": "code",
   "execution_count": 49,
   "id": "sporting-diagnosis",
   "metadata": {},
   "outputs": [],
   "source": [
    "with pq.ParquetWriter('example_result.parquet', table.schema) as writer:\n",
    "    for i in range(2):\n",
    "        writer.write_table(table)"
   ]
  },
  {
   "cell_type": "markdown",
   "id": "accepted-morgan",
   "metadata": {},
   "source": [
    "### 7.4 Read parquet and print result"
   ]
  },
  {
   "cell_type": "code",
   "execution_count": 54,
   "id": "suited-drawing",
   "metadata": {},
   "outputs": [],
   "source": [
    "def read_parquet(file):\n",
    "    parquet_file = pq.ParquetFile(file)\n",
    "    return parquet_file"
   ]
  },
  {
   "cell_type": "code",
   "execution_count": 55,
   "id": "clear-conclusion",
   "metadata": {},
   "outputs": [
    {
     "data": {
      "text/plain": [
       "<pyarrow._parquet.FileMetaData object at 0x7f3b07b6b630>\n",
       "  created_by: parquet-cpp version 1.5.1-SNAPSHOT\n",
       "  num_columns: 3\n",
       "  num_rows: 6\n",
       "  num_row_groups: 2\n",
       "  format_version: 1.0\n",
       "  serialized_size: 2157"
      ]
     },
     "execution_count": 55,
     "metadata": {},
     "output_type": "execute_result"
    }
   ],
   "source": [
    "file = 'example_result.parquet'\n",
    "read_parquet(file).metadata"
   ]
  },
  {
   "cell_type": "markdown",
   "id": "hundred-nelson",
   "metadata": {},
   "source": [
    "### 8 Compression (gzip, brotli or snappy[default])"
   ]
  },
  {
   "cell_type": "code",
   "execution_count": 51,
   "id": "blessed-glucose",
   "metadata": {},
   "outputs": [
    {
     "data": {
      "text/html": [
       "<div>\n",
       "<style scoped>\n",
       "    .dataframe tbody tr th:only-of-type {\n",
       "        vertical-align: middle;\n",
       "    }\n",
       "\n",
       "    .dataframe tbody tr th {\n",
       "        vertical-align: top;\n",
       "    }\n",
       "\n",
       "    .dataframe thead th {\n",
       "        text-align: right;\n",
       "    }\n",
       "</style>\n",
       "<table border=\"1\" class=\"dataframe\">\n",
       "  <thead>\n",
       "    <tr style=\"text-align: right;\">\n",
       "      <th></th>\n",
       "      <th>column_1</th>\n",
       "      <th>column_2</th>\n",
       "      <th>column_3</th>\n",
       "    </tr>\n",
       "  </thead>\n",
       "  <tbody>\n",
       "    <tr>\n",
       "      <th>0</th>\n",
       "      <td>-5.0</td>\n",
       "      <td>apple</td>\n",
       "      <td>True</td>\n",
       "    </tr>\n",
       "    <tr>\n",
       "      <th>1</th>\n",
       "      <td>NaN</td>\n",
       "      <td>banana</td>\n",
       "      <td>False</td>\n",
       "    </tr>\n",
       "    <tr>\n",
       "      <th>2</th>\n",
       "      <td>2.5</td>\n",
       "      <td>orange</td>\n",
       "      <td>True</td>\n",
       "    </tr>\n",
       "  </tbody>\n",
       "</table>\n",
       "</div>"
      ],
      "text/plain": [
       "   column_1 column_2  column_3\n",
       "0      -5.0    apple      True\n",
       "1       NaN   banana     False\n",
       "2       2.5   orange      True"
      ]
     },
     "execution_count": 51,
     "metadata": {},
     "output_type": "execute_result"
    }
   ],
   "source": [
    "table.to_pandas()"
   ]
  },
  {
   "cell_type": "markdown",
   "id": "clinical-digest",
   "metadata": {},
   "source": [
    "### 8.1 Compress and print result"
   ]
  },
  {
   "cell_type": "code",
   "execution_count": 57,
   "id": "provincial-constant",
   "metadata": {},
   "outputs": [
    {
     "data": {
      "text/plain": [
       "<pyarrow._parquet.FileMetaData object at 0x7f3ac81019f0>\n",
       "  created_by: parquet-cpp version 1.5.1-SNAPSHOT\n",
       "  num_columns: 3\n",
       "  num_rows: 3\n",
       "  num_row_groups: 1\n",
       "  format_version: 1.0\n",
       "  serialized_size: 1907"
      ]
     },
     "execution_count": 57,
     "metadata": {},
     "output_type": "execute_result"
    }
   ],
   "source": [
    "file = 'example_compress.snappy.parquet'\n",
    "pq.write_table(table, file, compression='snappy')\n",
    "read_parquet(file).metadata"
   ]
  },
  {
   "cell_type": "markdown",
   "id": "spoken-italian",
   "metadata": {},
   "source": [
    "### 9 Partitioned Dataset"
   ]
  },
  {
   "cell_type": "code",
   "execution_count": 68,
   "id": "collective-biology",
   "metadata": {},
   "outputs": [
    {
     "data": {
      "text/html": [
       "<div>\n",
       "<style scoped>\n",
       "    .dataframe tbody tr th:only-of-type {\n",
       "        vertical-align: middle;\n",
       "    }\n",
       "\n",
       "    .dataframe tbody tr th {\n",
       "        vertical-align: top;\n",
       "    }\n",
       "\n",
       "    .dataframe thead th {\n",
       "        text-align: right;\n",
       "    }\n",
       "</style>\n",
       "<table border=\"1\" class=\"dataframe\">\n",
       "  <thead>\n",
       "    <tr style=\"text-align: right;\">\n",
       "      <th></th>\n",
       "      <th>column_1</th>\n",
       "      <th>column_2</th>\n",
       "      <th>column_3</th>\n",
       "    </tr>\n",
       "  </thead>\n",
       "  <tbody>\n",
       "    <tr>\n",
       "      <th>0</th>\n",
       "      <td>-5.0</td>\n",
       "      <td>apple</td>\n",
       "      <td>True</td>\n",
       "    </tr>\n",
       "    <tr>\n",
       "      <th>1</th>\n",
       "      <td>NaN</td>\n",
       "      <td>banana</td>\n",
       "      <td>False</td>\n",
       "    </tr>\n",
       "    <tr>\n",
       "      <th>2</th>\n",
       "      <td>2.5</td>\n",
       "      <td>orange</td>\n",
       "      <td>True</td>\n",
       "    </tr>\n",
       "  </tbody>\n",
       "</table>\n",
       "</div>"
      ],
      "text/plain": [
       "   column_1 column_2  column_3\n",
       "0      -5.0    apple      True\n",
       "1       NaN   banana     False\n",
       "2       2.5   orange      True"
      ]
     },
     "execution_count": 68,
     "metadata": {},
     "output_type": "execute_result"
    }
   ],
   "source": [
    "table.to_pandas()"
   ]
  },
  {
   "cell_type": "markdown",
   "id": "centered-cheat",
   "metadata": {},
   "source": [
    "### 9.1 Writing Partitioned Dataset"
   ]
  },
  {
   "cell_type": "code",
   "execution_count": 70,
   "id": "alert-tulsa",
   "metadata": {},
   "outputs": [],
   "source": [
    "# Local dataset write\n",
    "pq.write_to_dataset(table, root_path='dataset_name',\n",
    "                    partition_cols=['column_2'])"
   ]
  },
  {
   "cell_type": "code",
   "execution_count": 71,
   "id": "automatic-finance",
   "metadata": {},
   "outputs": [
    {
     "name": "stdout",
     "output_type": "stream",
     "text": [
      "\u001b[01;34m.\u001b[00m\r\n",
      "└── \u001b[01;34mdataset_name\u001b[00m\r\n",
      "    ├── \u001b[01;34mcolumn_2=apple\u001b[00m\r\n",
      "    │   └── 8b5a106227e14a7b83bac02e9e51ed53.parquet\r\n",
      "    ├── \u001b[01;34mcolumn_2=banana\u001b[00m\r\n",
      "    │   └── ad7f234de53f4efd885be79921b4fc06.parquet\r\n",
      "    └── \u001b[01;34mcolumn_2=orange\u001b[00m\r\n",
      "        └── 149899fcdf4c4ec49098f2367193ae7f.parquet\r\n",
      "\r\n",
      "4 directories, 3 files\r\n"
     ]
    }
   ],
   "source": [
    "!tree -C -I 'example*|*.ipynb'"
   ]
  },
  {
   "cell_type": "markdown",
   "id": "specific-environment",
   "metadata": {},
   "source": [
    "### 9.2 Reading from Partitioned Dataset"
   ]
  },
  {
   "cell_type": "code",
   "execution_count": 74,
   "id": "according-accident",
   "metadata": {},
   "outputs": [
    {
     "data": {
      "text/html": [
       "<div>\n",
       "<style scoped>\n",
       "    .dataframe tbody tr th:only-of-type {\n",
       "        vertical-align: middle;\n",
       "    }\n",
       "\n",
       "    .dataframe tbody tr th {\n",
       "        vertical-align: top;\n",
       "    }\n",
       "\n",
       "    .dataframe thead th {\n",
       "        text-align: right;\n",
       "    }\n",
       "</style>\n",
       "<table border=\"1\" class=\"dataframe\">\n",
       "  <thead>\n",
       "    <tr style=\"text-align: right;\">\n",
       "      <th></th>\n",
       "      <th>column_1</th>\n",
       "      <th>column_3</th>\n",
       "      <th>column_2</th>\n",
       "    </tr>\n",
       "  </thead>\n",
       "  <tbody>\n",
       "    <tr>\n",
       "      <th>0</th>\n",
       "      <td>-5.0</td>\n",
       "      <td>True</td>\n",
       "      <td>apple</td>\n",
       "    </tr>\n",
       "    <tr>\n",
       "      <th>1</th>\n",
       "      <td>NaN</td>\n",
       "      <td>False</td>\n",
       "      <td>banana</td>\n",
       "    </tr>\n",
       "    <tr>\n",
       "      <th>2</th>\n",
       "      <td>2.5</td>\n",
       "      <td>True</td>\n",
       "      <td>orange</td>\n",
       "    </tr>\n",
       "  </tbody>\n",
       "</table>\n",
       "</div>"
      ],
      "text/plain": [
       "   column_1  column_3 column_2\n",
       "0      -5.0      True    apple\n",
       "1       NaN     False   banana\n",
       "2       2.5      True   orange"
      ]
     },
     "execution_count": 74,
     "metadata": {},
     "output_type": "execute_result"
    }
   ],
   "source": [
    "dataset = pq.ParquetDataset('dataset_name/')\n",
    "table_result = dataset.read()\n",
    "table_result.to_pandas()"
   ]
  },
  {
   "cell_type": "code",
   "execution_count": null,
   "id": "positive-kingston",
   "metadata": {},
   "outputs": [],
   "source": []
  }
 ],
 "metadata": {
  "kernelspec": {
   "display_name": "Python 3",
   "language": "python",
   "name": "python3"
  },
  "language_info": {
   "codemirror_mode": {
    "name": "ipython",
    "version": 3
   },
   "file_extension": ".py",
   "mimetype": "text/x-python",
   "name": "python",
   "nbconvert_exporter": "python",
   "pygments_lexer": "ipython3",
   "version": "3.8.5"
  }
 },
 "nbformat": 4,
 "nbformat_minor": 5
}
